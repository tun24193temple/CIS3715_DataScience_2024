{
 "cells": [
  {
   "cell_type": "code",
   "execution_count": 132,
   "metadata": {},
   "outputs": [],
   "source": [
    "import requests\n",
    "from bs4 import BeautifulSoup\n",
    "\n",
    "url = 'https://www.isidewith.com/polls/popular'\n",
    "response = requests.get(url)\n",
    "\n",
    "issues_votes = []\n",
    "\n",
    "if response.status_code == 200:\n",
    "    soup = BeautifulSoup(response.text, 'html.parser')\n",
    "    polls = soup.find_all('div', class_='poll')\n",
    "    \n",
    "    for poll in polls:\n",
    "        #identifying issue name\n",
    "        img_div = poll.find('div', class_='img')\n",
    "        if img_div:\n",
    "            p_tag = img_div.find('p')\n",
    "            if p_tag:\n",
    "                span_tag = p_tag.find('span')\n",
    "                if span_tag:\n",
    "                    issue_name = span_tag.text.strip()\n",
    "\n",
    "                    #logic for finding vote count\n",
    "                    count_div = poll.find('div', class_='count')\n",
    "                    if count_div:\n",
    "                        vote_text = count_div.text.strip().split()[0].replace(',', '')\n",
    "                        vote_count = int(vote_text) if vote_text.isdigit() else 0\n",
    "                        issues_votes.append((issue_name, vote_count))\n",
    "\n",
    "    issues_votes.sort(key=lambda x: x[1], reverse=True)\n",
    "\n"
   ]
  },
  {
   "cell_type": "code",
   "execution_count": 133,
   "metadata": {},
   "outputs": [
    {
     "name": "stdout",
     "output_type": "stream",
     "text": [
      "Abortion\n",
      "Gun Control\n",
      "Immigration Healthcare\n",
      "Obamacare\n",
      "Gay Marriage\n",
      "Marijuana\n",
      "Minimum Wage\n",
      "Terrorism\n",
      "Common Core\n",
      "Climate Change\n",
      "Student Loans\n",
      "Oil Drilling\n",
      "Voter Fraud\n",
      "Immigration\n",
      "Death Penalty\n",
      "Planned Parenthood Funding\n",
      "Drug Policy\n",
      "Border Security\n",
      "Affirmative Action\n",
      "Immigrant Laborers\n",
      "Fracking\n",
      "Equal Pay\n",
      "Government Mandates\n",
      "In-State Tuition\n",
      "Government Spending\n",
      "United Nations\n",
      "Term Limits\n",
      "Patriot Act\n",
      "Solitary Confinement for Juveniles\n",
      "Space Exploration\n",
      "Medicaid\n",
      "Religious Freedom Act\n",
      "Criminal Voting Rights\n",
      "Farm Subsidies\n",
      "Alternative Energy\n",
      "Israel\n",
      "Mandatory Vaccinations\n",
      "GMO Labels\n",
      "Drones\n",
      "Euthanasia\n",
      "First Amendment\n",
      "Immigrant Assimilation\n",
      "No-Fly List Gun Control\n",
      "Nuclear Energy\n",
      "Police Body Cameras\n",
      "Net Neutrality\n",
      "Illegal Immigrant Detainment\n",
      "Pension Reform\n",
      "Gerrymandering\n",
      "NSA Surveillance\n",
      "Labor Unions\n",
      "Property Taxes\n",
      "Confederate Flag\n",
      "Welfare Drug Testing\n",
      "Border Wall\n",
      "Drug Price Regulation\n",
      "Military Spending\n",
      "Foreign Assassination\n",
      "Right of Foreigners to Vote\n",
      "NSA Domestic Surveillance\n",
      "Mandatory Military Service\n",
      "Electoral College\n",
      "Social Security\n",
      "Military Congressional Approval\n",
      "Public Transportation\n",
      "Cuba\n",
      "Taxes\n",
      "Paris Climate Agreement\n",
      "Gun Liability\n",
      "Trans-Pacific Partnership\n",
      "Campaign Finance\n",
      "Paid Sick Leave\n",
      "Gender Workplace Diversity\n",
      "Free College for All\n",
      "Women in Combat\n",
      "Capital Gains Tax\n",
      "Armed Teachers\n",
      "Candidate Transparency\n",
      "Torture\n",
      "Plastic Product Ban\n",
      "Federal Reserve\n",
      "Mandatory minimum prison sentences\n",
      "Skilled Immigrants\n",
      "Foreign Aid\n",
      "North Korea Military Strikes\n",
      "Defunding the Police\n",
      "Gender Identity\n",
      "Deporting Criminal Immigrants\n",
      "Universal Pre-K\n",
      "Pre-Existing Conditions\n",
      "LGBT Adoption Rights\n",
      "Dakota Access Pipeline\n",
      "Eminent Domain\n",
      "Single-Payer Healthcare\n",
      "Muslim Surveillance\n",
      "Critical Race Theory in K-12 Education\n",
      "Universal Basic Income\n",
      "Demilitarize the Police\n",
      "Prison Overcrowding\n",
      "Drug Trafficking Penalties\n",
      "Foreign Lobbying\n",
      "Mental Health\n",
      "Corporate Tax\n",
      "Homeless Encampments\n",
      "Charter Schools\n",
      "Edward Snowden\n",
      "COVID Employment Health Pass\n",
      "Overtime Pay\n",
      "Offshore Banking\n",
      "Campaign Finance\n",
      "Marital Rape\n",
      "Private Prisons\n",
      "Welfare\n",
      "Niqāb\n",
      "World Health Organization\n",
      "Alaska Wildlife Refuge\n",
      "NATO\n",
      "Transgender Athletes\n",
      "Online Sales Tax\n",
      "Safe Spaces\n",
      "Sanctuary Cities\n",
      "Estate Tax\n",
      "Minimum Voting Age\n",
      "Flag Burning\n",
      "Economic Stimulus\n",
      "Medicaid Work Requirement\n",
      "Iran\n",
      "VA Privatization\n",
      "Corporate Mega Mergers\n",
      "Criminal Politicians\n",
      "Government Pensions\n",
      "NATO\n",
      "Gun Buyback\n",
      "Lobbyists\n",
      "Medicare Drug Prices\n",
      "Citizenship Test\n",
      "Decentralized Finance\n",
      "Qualified Immunity for Police\n",
      "Safe Haven\n",
      "School Truancy\n",
      "NAFTA\n",
      "Animal Testing\n",
      "Supreme Court Reform\n",
      "Air Force One\n",
      "Dual Citizenship\n",
      "Domestic Jobs\n",
      "F-35\n",
      "China Tariffs\n",
      "Corporate Subsidies\n",
      "Social Media Regulation\n",
      "Jerusalem\n",
      "Racial Sensitivity Training\n",
      "Whistleblower Protection\n",
      "Foreign Elections\n",
      "Political Advertising on Social Media\n",
      "Tech Monopolies\n",
      "India Arms\n",
      "Collective Bargaining\n",
      "School Vouchers\n",
      "Hate Speech\n",
      "Tariffs\n",
      "Free Tax Filing\n",
      "Gender Transition\n",
      "State Ownership\n",
      "Gig Workers\n",
      "Cryptocurrency\n",
      "['Abortion', 'Gun Control', 'Immigration Healthcare', 'Obamacare', 'Gay Marriage', 'Marijuana', 'Minimum Wage', 'Terrorism', 'Common Core', 'Climate Change', 'Student Loans', 'Oil Drilling', 'Voter Fraud', 'Immigration', 'Death Penalty', 'Planned Parenthood Funding', 'Drug Policy', 'Border Security', 'Affirmative Action', 'Immigrant Laborers', 'Fracking', 'Equal Pay', 'Government Mandates', 'In-State Tuition', 'Government Spending', 'United Nations', 'Term Limits', 'Patriot Act', 'Solitary Confinement for Juveniles', 'Space Exploration', 'Medicaid', 'Religious Freedom Act', 'Criminal Voting Rights', 'Farm Subsidies', 'Alternative Energy', 'Israel', 'Mandatory Vaccinations', 'GMO Labels', 'Drones', 'Euthanasia', 'First Amendment', 'Immigrant Assimilation', 'No-Fly List Gun Control', 'Nuclear Energy', 'Police Body Cameras', 'Net Neutrality', 'Illegal Immigrant Detainment', 'Pension Reform', 'Gerrymandering', 'NSA Surveillance', 'Labor Unions', 'Property Taxes', 'Confederate Flag', 'Welfare Drug Testing', 'Border Wall', 'Drug Price Regulation', 'Military Spending', 'Foreign Assassination', 'Right of Foreigners to Vote', 'NSA Domestic Surveillance', 'Mandatory Military Service', 'Electoral College', 'Social Security', 'Military Congressional Approval', 'Public Transportation', 'Cuba', 'Taxes', 'Paris Climate Agreement', 'Gun Liability', 'Trans-Pacific Partnership', 'Campaign Finance', 'Paid Sick Leave', 'Gender Workplace Diversity', 'Free College for All', 'Women in Combat', 'Capital Gains Tax', 'Armed Teachers', 'Candidate Transparency', 'Torture', 'Plastic Product Ban', 'Federal Reserve', 'Mandatory minimum prison sentences', 'Skilled Immigrants', 'Foreign Aid', 'North Korea Military Strikes', 'Defunding the Police', 'Gender Identity', 'Deporting Criminal Immigrants', 'Universal Pre-K', 'Pre-Existing Conditions', 'LGBT Adoption Rights', 'Dakota Access Pipeline', 'Eminent Domain', 'Single-Payer Healthcare', 'Muslim Surveillance', 'Critical Race Theory in K-12 Education', 'Universal Basic Income', 'Demilitarize the Police', 'Prison Overcrowding', 'Drug Trafficking Penalties', 'Foreign Lobbying', 'Mental Health', 'Corporate Tax', 'Homeless Encampments', 'Charter Schools', 'Edward Snowden', 'COVID Employment Health Pass', 'Overtime Pay', 'Offshore Banking', 'Campaign Finance', 'Marital Rape', 'Private Prisons', 'Welfare', 'Niqāb', 'World Health Organization', 'Alaska Wildlife Refuge', 'NATO', 'Transgender Athletes', 'Online Sales Tax', 'Safe Spaces', 'Sanctuary Cities', 'Estate Tax', 'Minimum Voting Age', 'Flag Burning', 'Economic Stimulus', 'Medicaid Work Requirement', 'Iran', 'VA Privatization', 'Corporate Mega Mergers', 'Criminal Politicians', 'Government Pensions', 'NATO', 'Gun Buyback', 'Lobbyists', 'Medicare Drug Prices', 'Citizenship Test', 'Decentralized Finance', 'Qualified Immunity for Police', 'Safe Haven', 'School Truancy', 'NAFTA', 'Animal Testing', 'Supreme Court Reform', 'Air Force One', 'Dual Citizenship', 'Domestic Jobs', 'F-35', 'China Tariffs', 'Corporate Subsidies', 'Social Media Regulation', 'Jerusalem', 'Racial Sensitivity Training', 'Whistleblower Protection', 'Foreign Elections', 'Political Advertising on Social Media', 'Tech Monopolies', 'India Arms', 'Collective Bargaining', 'School Vouchers', 'Hate Speech', 'Tariffs', 'Free Tax Filing', 'Gender Transition', 'State Ownership', 'Gig Workers', 'Cryptocurrency']\n"
     ]
    }
   ],
   "source": [
    "issues = [issue[0] for issue in issues_votes]\n",
    "for issue in issues:\n",
    "    print(issue)\n",
    "print(issues)"
   ]
  },
  {
   "cell_type": "code",
   "execution_count": 134,
   "metadata": {},
   "outputs": [
    {
     "name": "stdout",
     "output_type": "stream",
     "text": [
      "Normalized Weights for Features:  [0.46669847 0.00973206 0.26982732 0.21459036 0.03915178]\n"
     ]
    },
    {
     "data": {
      "text/plain": [
       "'\\ntrain_features = torch.tensor(X_train, dtype=torch.float32)\\ntest_features = torch.tensor(X_test, dtype=torch.float32)\\ntrain_views = torch.tensor(y_train, dtype=torch.float32)\\ntest_views = torch.tensor(y_test, dtype=torch.float32)\\ntrain_dataset = TensorDataset(train_features, train_views)\\ntest_dataset = TensorDataset(test_features, test_views)\\n\\nclass EngagementMLP(nn.Module):\\n    def __init__(self):\\n        super(EngagementMLP, self).__init__()\\n        self.layer1 = nn.Linear(5, 10) #first linear layer\\n        self.relu = nn.ReLU() #ReLU activation function\\n        self.dropout = nn.Dropout(0.5) #dropout to prevent overfitting\\n        self.layer2 = nn.Linear(10, 8) #second linear layer\\n        self.output = nn.Linear(8, 1) #output layer\\n\\n    #define forward pass\\n    def forward(self, x):\\n        x = self.relu(self.layer1(x))\\n        x = self.dropout(x)\\n        x = self.relu(self.layer2(x))\\n        x = self.output(x)\\n        return x\\n\\nmodel = EngagementMLP() \\noptimizer = optim.Adam(model.parameters(), lr=0.001)\\nloss_fn = nn.MSELoss()\\nscheduler = optim.lr_scheduler.StepLR(optimizer, step_size=100, gamma=0.1)\\n\\ndef train_model(model, train_dataset, test_dataset, epochs=100):\\n    train_loader = DataLoader(train_dataset, batch_size=32, shuffle=True)\\n    test_loader = DataLoader(test_dataset, batch_size=32, shuffle=False)\\n    train_losses, test_losses = [], []\\n\\n    #training loop\\n    for epoch in range(epochs):\\n        total_train_loss = 0 #set model to training mode\\n        model.train()\\n        for inputs, targets in train_loader: #iterate over batches\\n            optimizer.zero_grad()\\n            outputs = model(inputs) #forward pass\\n            loss = loss_fn(outputs, targets) #calculate loss\\n            loss.backward() #backpropagate\\n            optimizer.step() #update weights\\n            total_train_loss += loss.item() #accumulate loss\\n        \\n        #step learning rate scheduler\\n        scheduler.step()\\n\\n        #average training loss\\n        total_train_loss /= len(train_loader)\\n        train_losses.append(total_train_loss)\\n        total_test_loss = 0\\n\\n        #set model to evaluation mode\\n        model.eval()\\n\\n        #disable gradient calculation\\n        with torch.no_grad():\\n            for inputs, targets in test_loader: #iterate over test batches\\n                outputs = model(inputs)\\n                loss = loss_fn(outputs, targets)\\n                total_test_loss += loss.item()\\n\\n        #average testing loss\\n        total_test_loss /= len(test_loader)\\n        test_losses.append(total_test_loss)\\n        \\n        #print training and testing loss\\n        print(f\\'Epoch {epoch+1}, Train Loss: {total_train_loss}, Test Loss: {total_test_loss}\\')\\n\\n    return train_losses, test_losses\\n\\n#train model and capture losses\\ntrain_losses, test_losses = train_model(model, train_dataset, test_dataset)\\n\\n#plot training and testing losses\\nplt.figure(figsize=(10, 5))\\nplt.plot(train_losses, label=\\'Train Loss\\')\\nplt.plot(test_losses, label=\\'Test Loss\\')\\nplt.xlabel(\\'Epoch\\')\\nplt.ylabel(\\'Loss\\')\\nplt.title(\\'Model Loss over Epochs\\')\\nplt.legend()\\nplt.show()\\n\\ndef find_weights(model, inputs):\\n    model.eval()\\n    importance_scores = np.zeros((5,)) \\n    baseline_output = model(inputs).data.numpy()\\n    \\n    with torch.no_grad():\\n        for feature in range(5): \\n            perturbed = inputs.clone()\\n            perturbed[:, feature] += 0.01\\n            perturbed_output = model(perturbed).data.numpy()\\n            importance_scores[feature] = np.mean(\\n                np.abs(perturbed_output - baseline_output)) #calc the change in output due to the perturbation\\n    return importance_scores\\n\\n\\ntest_inputs = test_features[:1] \\nweights = find_weights(model, test_inputs)\\nnormalized_weights = weights / np.sum(weights)\\n\\nprint(\"Normalized Weights: \", normalized_weights)'"
      ]
     },
     "execution_count": 134,
     "metadata": {},
     "output_type": "execute_result"
    }
   ],
   "source": [
    "import torch\n",
    "import torch.nn as nn\n",
    "import torch.optim as optim\n",
    "from torch.utils.data import DataLoader, TensorDataset\n",
    "from sklearn.preprocessing import StandardScaler, PolynomialFeatures\n",
    "from sklearn.model_selection import train_test_split\n",
    "import matplotlib.pyplot as plt\n",
    "from sklearn.linear_model import LinearRegression, Ridge, Lasso\n",
    "import pandas as pd\n",
    "import numpy as np\n",
    "\n",
    "#load dataset\n",
    "df = pd.read_csv(\"FixedData.csv\")\n",
    "\n",
    "#apply log transformation to viewCount for normalization\n",
    "df['LogviewCount'] = np.log1p(df['viewCount'])\n",
    "df['Logfollowers'] = np.log1p(df['followers'])\n",
    "df['LoglikeCount'] = np.log1p(df['likeCount'])\n",
    "df['LogquoteCount'] = np.log1p(df['quoteCount'])\n",
    "df['LogretweetCount'] = np.log1p(df['retweetCount'])\n",
    "df['LogreplyCount'] = np.log1p(df['replyCount'])\n",
    "\n",
    "#extract relevant features\n",
    "features = df[['LoglikeCount', 'LogreplyCount', 'LogquoteCount', 'LogretweetCount', 'Logfollowers']].values\n",
    "views = df['LogviewCount'].values.reshape(-1, 1) #reshape viewCount for compatibility\n",
    "\n",
    "#scale features\n",
    "scaler = StandardScaler()\n",
    "features_scaled = scaler.fit_transform(features)\n",
    "\n",
    "#split data into training and testing sets\n",
    "X_train, X_test, y_train, y_test = train_test_split(features_scaled, views, test_size=0.2, random_state=42)\n",
    "\n",
    "#polynomialize the features to account for non-linearity\n",
    "poly = PolynomialFeatures(degree=2)\n",
    "X_train_poly = poly.fit_transform(X_train)\n",
    "X_test_poly = poly.transform(X_test)\n",
    "\n",
    "#linear Regression with Polynomial Features\n",
    "linear_reg = LinearRegression()\n",
    "linear_reg.fit(X_train_poly, y_train)\n",
    "y_pred_linear = linear_reg.predict(X_test_poly)\n",
    "\n",
    "#initialize and fit linear regression model\n",
    "reg = LinearRegression().fit(X_train, y_train)\n",
    "\n",
    "#extract coefficients as feature importance\n",
    "feature_weights = reg.coef_[0]\n",
    "\n",
    "#normalize feature weights to sum to 1 for comparison\n",
    "normalized_weights = feature_weights / np.sum(np.abs(feature_weights))\n",
    "normalized_weights = (np.abs(normalized_weights))\n",
    "\n",
    "#print normalized feature weights\n",
    "print(\"Normalized Weights for Features: \", normalized_weights)\n",
    "\n",
    "\n",
    "'''\n",
    "train_features = torch.tensor(X_train, dtype=torch.float32)\n",
    "test_features = torch.tensor(X_test, dtype=torch.float32)\n",
    "train_views = torch.tensor(y_train, dtype=torch.float32)\n",
    "test_views = torch.tensor(y_test, dtype=torch.float32)\n",
    "train_dataset = TensorDataset(train_features, train_views)\n",
    "test_dataset = TensorDataset(test_features, test_views)\n",
    "\n",
    "class EngagementMLP(nn.Module):\n",
    "    def __init__(self):\n",
    "        super(EngagementMLP, self).__init__()\n",
    "        self.layer1 = nn.Linear(5, 10) #first linear layer\n",
    "        self.relu = nn.ReLU() #ReLU activation function\n",
    "        self.dropout = nn.Dropout(0.5) #dropout to prevent overfitting\n",
    "        self.layer2 = nn.Linear(10, 8) #second linear layer\n",
    "        self.output = nn.Linear(8, 1) #output layer\n",
    "\n",
    "    #define forward pass\n",
    "    def forward(self, x):\n",
    "        x = self.relu(self.layer1(x))\n",
    "        x = self.dropout(x)\n",
    "        x = self.relu(self.layer2(x))\n",
    "        x = self.output(x)\n",
    "        return x\n",
    "\n",
    "model = EngagementMLP() \n",
    "optimizer = optim.Adam(model.parameters(), lr=0.001)\n",
    "loss_fn = nn.MSELoss()\n",
    "scheduler = optim.lr_scheduler.StepLR(optimizer, step_size=100, gamma=0.1)\n",
    "\n",
    "def train_model(model, train_dataset, test_dataset, epochs=100):\n",
    "    train_loader = DataLoader(train_dataset, batch_size=32, shuffle=True)\n",
    "    test_loader = DataLoader(test_dataset, batch_size=32, shuffle=False)\n",
    "    train_losses, test_losses = [], []\n",
    "\n",
    "    #training loop\n",
    "    for epoch in range(epochs):\n",
    "        total_train_loss = 0 #set model to training mode\n",
    "        model.train()\n",
    "        for inputs, targets in train_loader: #iterate over batches\n",
    "            optimizer.zero_grad()\n",
    "            outputs = model(inputs) #forward pass\n",
    "            loss = loss_fn(outputs, targets) #calculate loss\n",
    "            loss.backward() #backpropagate\n",
    "            optimizer.step() #update weights\n",
    "            total_train_loss += loss.item() #accumulate loss\n",
    "        \n",
    "        #step learning rate scheduler\n",
    "        scheduler.step()\n",
    "\n",
    "        #average training loss\n",
    "        total_train_loss /= len(train_loader)\n",
    "        train_losses.append(total_train_loss)\n",
    "        total_test_loss = 0\n",
    "\n",
    "        #set model to evaluation mode\n",
    "        model.eval()\n",
    "\n",
    "        #disable gradient calculation\n",
    "        with torch.no_grad():\n",
    "            for inputs, targets in test_loader: #iterate over test batches\n",
    "                outputs = model(inputs)\n",
    "                loss = loss_fn(outputs, targets)\n",
    "                total_test_loss += loss.item()\n",
    "\n",
    "        #average testing loss\n",
    "        total_test_loss /= len(test_loader)\n",
    "        test_losses.append(total_test_loss)\n",
    "        \n",
    "        #print training and testing loss\n",
    "        print(f'Epoch {epoch+1}, Train Loss: {total_train_loss}, Test Loss: {total_test_loss}')\n",
    "\n",
    "    return train_losses, test_losses\n",
    "\n",
    "#train model and capture losses\n",
    "train_losses, test_losses = train_model(model, train_dataset, test_dataset)\n",
    "\n",
    "#plot training and testing losses\n",
    "plt.figure(figsize=(10, 5))\n",
    "plt.plot(train_losses, label='Train Loss')\n",
    "plt.plot(test_losses, label='Test Loss')\n",
    "plt.xlabel('Epoch')\n",
    "plt.ylabel('Loss')\n",
    "plt.title('Model Loss over Epochs')\n",
    "plt.legend()\n",
    "plt.show()\n",
    "\n",
    "def find_weights(model, inputs):\n",
    "    model.eval()\n",
    "    importance_scores = np.zeros((5,)) \n",
    "    baseline_output = model(inputs).data.numpy()\n",
    "    \n",
    "    with torch.no_grad():\n",
    "        for feature in range(5): \n",
    "            perturbed = inputs.clone()\n",
    "            perturbed[:, feature] += 0.01\n",
    "            perturbed_output = model(perturbed).data.numpy()\n",
    "            importance_scores[feature] = np.mean(\n",
    "                np.abs(perturbed_output - baseline_output)) #calc the change in output due to the perturbation\n",
    "    return importance_scores\n",
    "\n",
    "\n",
    "test_inputs = test_features[:1] \n",
    "weights = find_weights(model, test_inputs)\n",
    "normalized_weights = weights / np.sum(weights)\n",
    "\n",
    "print(\"Normalized Weights: \", normalized_weights)'''\n"
   ]
  },
  {
   "cell_type": "code",
   "execution_count": 135,
   "metadata": {},
   "outputs": [
    {
     "name": "stdout",
     "output_type": "stream",
     "text": [
      "Mean Squared Error: 0.520736716875286\n",
      "Mean Absolute Error: 0.5643510839448919\n",
      "Root Mean Squared Error: 0.7216208955367673\n"
     ]
    }
   ],
   "source": [
    "from sklearn.metrics import mean_squared_error, mean_absolute_error\n",
    "\n",
    "mse = mean_squared_error(y_test, y_pred_linear)\n",
    "mae = mean_absolute_error(y_test, y_pred_linear)\n",
    "rmse = np.sqrt(mse)\n",
    "\n",
    "# Print the evaluation results\n",
    "print(\"Mean Squared Error:\", mse)\n",
    "print(\"Mean Absolute Error:\", mae)\n",
    "print(\"Root Mean Squared Error:\", rmse)\n",
    "\n"
   ]
  },
  {
   "cell_type": "code",
   "execution_count": 136,
   "metadata": {},
   "outputs": [
    {
     "name": "stdout",
     "output_type": "stream",
     "text": [
      "Engagement Scores by Topic:\n",
      "searchTerm\n",
      "Abortion                   44310.394538\n",
      "Affirmative Action          7310.741366\n",
      "Border Camps               11957.959614\n",
      "China Taiwan               11917.244601\n",
      "Climate Change             23545.592510\n",
      "Critical Race Theory       24852.308744\n",
      "Euthanasia                 13328.148366\n",
      "Felon Voting Rights         8856.729830\n",
      "GMO                         6190.639160\n",
      "Gay Marriage                3924.755234\n",
      "Gun Control                 7577.798432\n",
      "Insulin Prices             39753.425194\n",
      "Iran Israel                28970.525823\n",
      "Israel Palestine            6975.534167\n",
      "Medicaid                   70280.688681\n",
      "Minimum Wage               19254.423472\n",
      "Obamacare                   8234.739913\n",
      "Patriot Act                 4386.935098\n",
      "Pharmaceutical Industry     9130.127273\n",
      "Police Violence             9746.670236\n",
      "Student Loans              48607.498198\n",
      "Term Limits                29329.682609\n",
      "Terrorism                  14398.823221\n",
      "Trans Athletes             74889.105632\n",
      "Trans Rights                8887.419213\n",
      "Ukraine Russia             23116.545143\n",
      "Uyghur Persecution         20752.504063\n",
      "Vaccine Mandates            9939.148036\n",
      "Voter Fraud                20854.664889\n",
      "labor unions               52889.371292\n",
      "Name: EngagementScore, dtype: float64\n"
     ]
    }
   ],
   "source": [
    "import matplotlib.pyplot as plt\n",
    "\n",
    "#list of features to calculate engagement score\n",
    "features = ['likeCount', 'replyCount', 'quoteCount', 'retweetCount', 'followers']\n",
    "#calculate engagement score using dot product with normalized weights\n",
    "df['EngagementScore'] = df[features].dot(normalized_weights.T)\n",
    "\n",
    "#group by searchTerm and calculate mean of engagement scores\n",
    "topic_engagement = df.groupby('searchTerm')['EngagementScore'].mean()\n",
    "\n",
    "#calculate quantiles for thresholding engagement scores\n",
    "low_threshold, high_threshold = topic_engagement.quantile([0.33, 0.66])\n",
    "\n",
    "#function to categorize engagement score into Low, Medium, High\n",
    "def categorize_engagement(score):\n",
    "    if score <= low_threshold:\n",
    "        return 'Low'\n",
    "    elif score <= high_threshold:\n",
    "        return 'Medium'\n",
    "    else:\n",
    "        return 'High'\n",
    "\n",
    "#print engagement scores by topic again for verification\n",
    "print(\"Engagement Scores by Topic:\")\n",
    "print(topic_engagement)\n"
   ]
  },
  {
   "cell_type": "code",
   "execution_count": 137,
   "metadata": {},
   "outputs": [
    {
     "data": {
      "application/vnd.plotly.v1+json": {
       "config": {
        "plotlyServerURL": "https://plot.ly"
       },
       "data": [
        {
         "hovertemplate": "<b>%{hovertext}</b><br><br>Category=High<br>Log View Count (Mean)=%{x}<br>Log Engagement Score (Mean)=%{y}<extra></extra>",
         "hovertext": [
          "Abortion",
          "Climate Change",
          "Critical Race Theory",
          "Insulin Prices",
          "Iran Israel",
          "Medicaid",
          "Student Loans",
          "Term Limits",
          "Trans Athletes",
          "labor unions"
         ],
         "legendgroup": "High",
         "marker": {
          "color": "green",
          "symbol": "circle"
         },
         "mode": "markers",
         "name": "High",
         "orientation": "v",
         "showlegend": true,
         "type": "scatter",
         "x": [
          17.455756388155713,
          17.956195747004784,
          16.49165576466734,
          16.83988776971129,
          18.851718967950983,
          15.218914708257767,
          17.703794918130487,
          16.71126817493687,
          17.02597906012971,
          15.27140700496234
         ],
         "xaxis": "x",
         "y": [
          15.46965938391653,
          14.837378911756838,
          14.84809410921706,
          15.23484242579779,
          15.04471915818483,
          15.930937086403633,
          15.562217880716968,
          15.05704025394728,
          15.994448444377602,
          15.548786688060531
         ],
         "yaxis": "y"
        },
        {
         "hovertemplate": "<b>%{hovertext}</b><br><br>Category=Low<br>Log View Count (Mean)=%{x}<br>Log Engagement Score (Mean)=%{y}<extra></extra>",
         "hovertext": [
          "Affirmative Action",
          "Euthanasia",
          "Felon Voting Rights",
          "GMO",
          "Gay Marriage",
          "Gun Control",
          "Israel Palestine",
          "Obamacare",
          "Patriot Act",
          "Vaccine Mandates"
         ],
         "legendgroup": "Low",
         "marker": {
          "color": "red",
          "symbol": "circle"
         },
         "mode": "markers",
         "name": "Low",
         "orientation": "v",
         "showlegend": true,
         "type": "scatter",
         "x": [
          15.731020407961747,
          17.477188636421776,
          16.0631108143634,
          13.374280957086187,
          14.705427334583314,
          15.659846348149168,
          17.053813096344665,
          14.802841876657881,
          14.972636064532937,
          15.17738721870197
         ],
         "xaxis": "x",
         "y": [
          13.227835105729655,
          13.575172211820162,
          13.789414274024585,
          12.808333798982105,
          12.592550778267883,
          13.703663734905517,
          13.620850026151695,
          13.292784864575555,
          12.605897164281323,
          13.789205090590967
         ],
         "yaxis": "y"
        },
        {
         "hovertemplate": "<b>%{hovertext}</b><br><br>Category=Medium<br>Log View Count (Mean)=%{x}<br>Log Engagement Score (Mean)=%{y}<extra></extra>",
         "hovertext": [
          "Border Camps",
          "China Taiwan",
          "Minimum Wage",
          "Pharmaceutical Industry",
          "Police Violence",
          "Terrorism",
          "Trans Rights",
          "Ukraine Russia",
          "Uyghur Persecution",
          "Voter Fraud"
         ],
         "legendgroup": "Medium",
         "marker": {
          "color": "yellow",
          "symbol": "circle"
         },
         "mode": "markers",
         "name": "Medium",
         "orientation": "v",
         "showlegend": true,
         "type": "scatter",
         "x": [
          15.588123734461488,
          16.264168679943555,
          15.81498408709749,
          15.44642420707007,
          16.415408943947046,
          17.550397976182545,
          16.65563484867393,
          16.949234599362907,
          15.733050920475774,
          14.946177560619391
         ],
         "xaxis": "x",
         "y": [
          13.795872679202386,
          14.156427091824778,
          14.636181168651515,
          13.89002046624407,
          13.955366485366753,
          14.345586974478714,
          13.863077562103559,
          14.818988871154389,
          14.711107228930002,
          14.716017968702529
         ],
         "yaxis": "y"
        }
       ],
       "layout": {
        "legend": {
         "title": {
          "text": "Category"
         },
         "tracegroupgap": 0
        },
        "shapes": [
         {
          "line": {
           "color": "red",
           "dash": "dash"
          },
          "type": "line",
          "x0": 0,
          "x1": 1,
          "xref": "x domain",
          "y0": 13.793095564975932,
          "y1": 13.793095564975932,
          "yref": "y"
         },
         {
          "line": {
           "color": "green",
           "dash": "dash"
          },
          "type": "line",
          "x0": 0,
          "x1": 1,
          "xref": "x domain",
          "y0": 14.821563476838731,
          "y1": 14.821563476838731,
          "yref": "y"
         }
        ],
        "template": {
         "data": {
          "bar": [
           {
            "error_x": {
             "color": "#2a3f5f"
            },
            "error_y": {
             "color": "#2a3f5f"
            },
            "marker": {
             "line": {
              "color": "#E5ECF6",
              "width": 0.5
             },
             "pattern": {
              "fillmode": "overlay",
              "size": 10,
              "solidity": 0.2
             }
            },
            "type": "bar"
           }
          ],
          "barpolar": [
           {
            "marker": {
             "line": {
              "color": "#E5ECF6",
              "width": 0.5
             },
             "pattern": {
              "fillmode": "overlay",
              "size": 10,
              "solidity": 0.2
             }
            },
            "type": "barpolar"
           }
          ],
          "carpet": [
           {
            "aaxis": {
             "endlinecolor": "#2a3f5f",
             "gridcolor": "white",
             "linecolor": "white",
             "minorgridcolor": "white",
             "startlinecolor": "#2a3f5f"
            },
            "baxis": {
             "endlinecolor": "#2a3f5f",
             "gridcolor": "white",
             "linecolor": "white",
             "minorgridcolor": "white",
             "startlinecolor": "#2a3f5f"
            },
            "type": "carpet"
           }
          ],
          "choropleth": [
           {
            "colorbar": {
             "outlinewidth": 0,
             "ticks": ""
            },
            "type": "choropleth"
           }
          ],
          "contour": [
           {
            "colorbar": {
             "outlinewidth": 0,
             "ticks": ""
            },
            "colorscale": [
             [
              0,
              "#0d0887"
             ],
             [
              0.1111111111111111,
              "#46039f"
             ],
             [
              0.2222222222222222,
              "#7201a8"
             ],
             [
              0.3333333333333333,
              "#9c179e"
             ],
             [
              0.4444444444444444,
              "#bd3786"
             ],
             [
              0.5555555555555556,
              "#d8576b"
             ],
             [
              0.6666666666666666,
              "#ed7953"
             ],
             [
              0.7777777777777778,
              "#fb9f3a"
             ],
             [
              0.8888888888888888,
              "#fdca26"
             ],
             [
              1,
              "#f0f921"
             ]
            ],
            "type": "contour"
           }
          ],
          "contourcarpet": [
           {
            "colorbar": {
             "outlinewidth": 0,
             "ticks": ""
            },
            "type": "contourcarpet"
           }
          ],
          "heatmap": [
           {
            "colorbar": {
             "outlinewidth": 0,
             "ticks": ""
            },
            "colorscale": [
             [
              0,
              "#0d0887"
             ],
             [
              0.1111111111111111,
              "#46039f"
             ],
             [
              0.2222222222222222,
              "#7201a8"
             ],
             [
              0.3333333333333333,
              "#9c179e"
             ],
             [
              0.4444444444444444,
              "#bd3786"
             ],
             [
              0.5555555555555556,
              "#d8576b"
             ],
             [
              0.6666666666666666,
              "#ed7953"
             ],
             [
              0.7777777777777778,
              "#fb9f3a"
             ],
             [
              0.8888888888888888,
              "#fdca26"
             ],
             [
              1,
              "#f0f921"
             ]
            ],
            "type": "heatmap"
           }
          ],
          "heatmapgl": [
           {
            "colorbar": {
             "outlinewidth": 0,
             "ticks": ""
            },
            "colorscale": [
             [
              0,
              "#0d0887"
             ],
             [
              0.1111111111111111,
              "#46039f"
             ],
             [
              0.2222222222222222,
              "#7201a8"
             ],
             [
              0.3333333333333333,
              "#9c179e"
             ],
             [
              0.4444444444444444,
              "#bd3786"
             ],
             [
              0.5555555555555556,
              "#d8576b"
             ],
             [
              0.6666666666666666,
              "#ed7953"
             ],
             [
              0.7777777777777778,
              "#fb9f3a"
             ],
             [
              0.8888888888888888,
              "#fdca26"
             ],
             [
              1,
              "#f0f921"
             ]
            ],
            "type": "heatmapgl"
           }
          ],
          "histogram": [
           {
            "marker": {
             "pattern": {
              "fillmode": "overlay",
              "size": 10,
              "solidity": 0.2
             }
            },
            "type": "histogram"
           }
          ],
          "histogram2d": [
           {
            "colorbar": {
             "outlinewidth": 0,
             "ticks": ""
            },
            "colorscale": [
             [
              0,
              "#0d0887"
             ],
             [
              0.1111111111111111,
              "#46039f"
             ],
             [
              0.2222222222222222,
              "#7201a8"
             ],
             [
              0.3333333333333333,
              "#9c179e"
             ],
             [
              0.4444444444444444,
              "#bd3786"
             ],
             [
              0.5555555555555556,
              "#d8576b"
             ],
             [
              0.6666666666666666,
              "#ed7953"
             ],
             [
              0.7777777777777778,
              "#fb9f3a"
             ],
             [
              0.8888888888888888,
              "#fdca26"
             ],
             [
              1,
              "#f0f921"
             ]
            ],
            "type": "histogram2d"
           }
          ],
          "histogram2dcontour": [
           {
            "colorbar": {
             "outlinewidth": 0,
             "ticks": ""
            },
            "colorscale": [
             [
              0,
              "#0d0887"
             ],
             [
              0.1111111111111111,
              "#46039f"
             ],
             [
              0.2222222222222222,
              "#7201a8"
             ],
             [
              0.3333333333333333,
              "#9c179e"
             ],
             [
              0.4444444444444444,
              "#bd3786"
             ],
             [
              0.5555555555555556,
              "#d8576b"
             ],
             [
              0.6666666666666666,
              "#ed7953"
             ],
             [
              0.7777777777777778,
              "#fb9f3a"
             ],
             [
              0.8888888888888888,
              "#fdca26"
             ],
             [
              1,
              "#f0f921"
             ]
            ],
            "type": "histogram2dcontour"
           }
          ],
          "mesh3d": [
           {
            "colorbar": {
             "outlinewidth": 0,
             "ticks": ""
            },
            "type": "mesh3d"
           }
          ],
          "parcoords": [
           {
            "line": {
             "colorbar": {
              "outlinewidth": 0,
              "ticks": ""
             }
            },
            "type": "parcoords"
           }
          ],
          "pie": [
           {
            "automargin": true,
            "type": "pie"
           }
          ],
          "scatter": [
           {
            "fillpattern": {
             "fillmode": "overlay",
             "size": 10,
             "solidity": 0.2
            },
            "type": "scatter"
           }
          ],
          "scatter3d": [
           {
            "line": {
             "colorbar": {
              "outlinewidth": 0,
              "ticks": ""
             }
            },
            "marker": {
             "colorbar": {
              "outlinewidth": 0,
              "ticks": ""
             }
            },
            "type": "scatter3d"
           }
          ],
          "scattercarpet": [
           {
            "marker": {
             "colorbar": {
              "outlinewidth": 0,
              "ticks": ""
             }
            },
            "type": "scattercarpet"
           }
          ],
          "scattergeo": [
           {
            "marker": {
             "colorbar": {
              "outlinewidth": 0,
              "ticks": ""
             }
            },
            "type": "scattergeo"
           }
          ],
          "scattergl": [
           {
            "marker": {
             "colorbar": {
              "outlinewidth": 0,
              "ticks": ""
             }
            },
            "type": "scattergl"
           }
          ],
          "scattermapbox": [
           {
            "marker": {
             "colorbar": {
              "outlinewidth": 0,
              "ticks": ""
             }
            },
            "type": "scattermapbox"
           }
          ],
          "scatterpolar": [
           {
            "marker": {
             "colorbar": {
              "outlinewidth": 0,
              "ticks": ""
             }
            },
            "type": "scatterpolar"
           }
          ],
          "scatterpolargl": [
           {
            "marker": {
             "colorbar": {
              "outlinewidth": 0,
              "ticks": ""
             }
            },
            "type": "scatterpolargl"
           }
          ],
          "scatterternary": [
           {
            "marker": {
             "colorbar": {
              "outlinewidth": 0,
              "ticks": ""
             }
            },
            "type": "scatterternary"
           }
          ],
          "surface": [
           {
            "colorbar": {
             "outlinewidth": 0,
             "ticks": ""
            },
            "colorscale": [
             [
              0,
              "#0d0887"
             ],
             [
              0.1111111111111111,
              "#46039f"
             ],
             [
              0.2222222222222222,
              "#7201a8"
             ],
             [
              0.3333333333333333,
              "#9c179e"
             ],
             [
              0.4444444444444444,
              "#bd3786"
             ],
             [
              0.5555555555555556,
              "#d8576b"
             ],
             [
              0.6666666666666666,
              "#ed7953"
             ],
             [
              0.7777777777777778,
              "#fb9f3a"
             ],
             [
              0.8888888888888888,
              "#fdca26"
             ],
             [
              1,
              "#f0f921"
             ]
            ],
            "type": "surface"
           }
          ],
          "table": [
           {
            "cells": {
             "fill": {
              "color": "#EBF0F8"
             },
             "line": {
              "color": "white"
             }
            },
            "header": {
             "fill": {
              "color": "#C8D4E3"
             },
             "line": {
              "color": "white"
             }
            },
            "type": "table"
           }
          ]
         },
         "layout": {
          "annotationdefaults": {
           "arrowcolor": "#2a3f5f",
           "arrowhead": 0,
           "arrowwidth": 1
          },
          "autotypenumbers": "strict",
          "coloraxis": {
           "colorbar": {
            "outlinewidth": 0,
            "ticks": ""
           }
          },
          "colorscale": {
           "diverging": [
            [
             0,
             "#8e0152"
            ],
            [
             0.1,
             "#c51b7d"
            ],
            [
             0.2,
             "#de77ae"
            ],
            [
             0.3,
             "#f1b6da"
            ],
            [
             0.4,
             "#fde0ef"
            ],
            [
             0.5,
             "#f7f7f7"
            ],
            [
             0.6,
             "#e6f5d0"
            ],
            [
             0.7,
             "#b8e186"
            ],
            [
             0.8,
             "#7fbc41"
            ],
            [
             0.9,
             "#4d9221"
            ],
            [
             1,
             "#276419"
            ]
           ],
           "sequential": [
            [
             0,
             "#0d0887"
            ],
            [
             0.1111111111111111,
             "#46039f"
            ],
            [
             0.2222222222222222,
             "#7201a8"
            ],
            [
             0.3333333333333333,
             "#9c179e"
            ],
            [
             0.4444444444444444,
             "#bd3786"
            ],
            [
             0.5555555555555556,
             "#d8576b"
            ],
            [
             0.6666666666666666,
             "#ed7953"
            ],
            [
             0.7777777777777778,
             "#fb9f3a"
            ],
            [
             0.8888888888888888,
             "#fdca26"
            ],
            [
             1,
             "#f0f921"
            ]
           ],
           "sequentialminus": [
            [
             0,
             "#0d0887"
            ],
            [
             0.1111111111111111,
             "#46039f"
            ],
            [
             0.2222222222222222,
             "#7201a8"
            ],
            [
             0.3333333333333333,
             "#9c179e"
            ],
            [
             0.4444444444444444,
             "#bd3786"
            ],
            [
             0.5555555555555556,
             "#d8576b"
            ],
            [
             0.6666666666666666,
             "#ed7953"
            ],
            [
             0.7777777777777778,
             "#fb9f3a"
            ],
            [
             0.8888888888888888,
             "#fdca26"
            ],
            [
             1,
             "#f0f921"
            ]
           ]
          },
          "colorway": [
           "#636efa",
           "#EF553B",
           "#00cc96",
           "#ab63fa",
           "#FFA15A",
           "#19d3f3",
           "#FF6692",
           "#B6E880",
           "#FF97FF",
           "#FECB52"
          ],
          "font": {
           "color": "#2a3f5f"
          },
          "geo": {
           "bgcolor": "white",
           "lakecolor": "white",
           "landcolor": "#E5ECF6",
           "showlakes": true,
           "showland": true,
           "subunitcolor": "white"
          },
          "hoverlabel": {
           "align": "left"
          },
          "hovermode": "closest",
          "mapbox": {
           "style": "light"
          },
          "paper_bgcolor": "white",
          "plot_bgcolor": "#E5ECF6",
          "polar": {
           "angularaxis": {
            "gridcolor": "white",
            "linecolor": "white",
            "ticks": ""
           },
           "bgcolor": "#E5ECF6",
           "radialaxis": {
            "gridcolor": "white",
            "linecolor": "white",
            "ticks": ""
           }
          },
          "scene": {
           "xaxis": {
            "backgroundcolor": "#E5ECF6",
            "gridcolor": "white",
            "gridwidth": 2,
            "linecolor": "white",
            "showbackground": true,
            "ticks": "",
            "zerolinecolor": "white"
           },
           "yaxis": {
            "backgroundcolor": "#E5ECF6",
            "gridcolor": "white",
            "gridwidth": 2,
            "linecolor": "white",
            "showbackground": true,
            "ticks": "",
            "zerolinecolor": "white"
           },
           "zaxis": {
            "backgroundcolor": "#E5ECF6",
            "gridcolor": "white",
            "gridwidth": 2,
            "linecolor": "white",
            "showbackground": true,
            "ticks": "",
            "zerolinecolor": "white"
           }
          },
          "shapedefaults": {
           "line": {
            "color": "#2a3f5f"
           }
          },
          "ternary": {
           "aaxis": {
            "gridcolor": "white",
            "linecolor": "white",
            "ticks": ""
           },
           "baxis": {
            "gridcolor": "white",
            "linecolor": "white",
            "ticks": ""
           },
           "bgcolor": "#E5ECF6",
           "caxis": {
            "gridcolor": "white",
            "linecolor": "white",
            "ticks": ""
           }
          },
          "title": {
           "x": 0.05
          },
          "xaxis": {
           "automargin": true,
           "gridcolor": "white",
           "linecolor": "white",
           "ticks": "",
           "title": {
            "standoff": 15
           },
           "zerolinecolor": "white",
           "zerolinewidth": 2
          },
          "yaxis": {
           "automargin": true,
           "gridcolor": "white",
           "linecolor": "white",
           "ticks": "",
           "title": {
            "standoff": 15
           },
           "zerolinecolor": "white",
           "zerolinewidth": 2
          }
         }
        },
        "title": {
         "text": "Engagment Scores Clusted by Thresholds"
        },
        "xaxis": {
         "anchor": "y",
         "domain": [
          0,
          1
         ],
         "title": {
          "text": "Log View Count (Mean)"
         }
        },
        "yaxis": {
         "anchor": "x",
         "domain": [
          0,
          1
         ],
         "title": {
          "text": "Log Engagement Score (Mean)"
         }
        }
       }
      }
     },
     "metadata": {},
     "output_type": "display_data"
    }
   ],
   "source": [
    "import pandas as pd\n",
    "import numpy as np\n",
    "import plotly.express as px\n",
    "\n",
    "topic_engagement = df.groupby('searchTerm').agg({\n",
    "    'EngagementScore': 'sum',\n",
    "    'viewCount': 'sum' \n",
    "}).reset_index()\n",
    "\n",
    "# Applying logarithmic transformation, ensuring there are no non-positive values\n",
    "topic_engagement['logEngagementScore'] = np.log1p(topic_engagement['EngagementScore'])\n",
    "topic_engagement['logViewCount'] = np.log1p(topic_engagement['viewCount'])\n",
    "\n",
    "# Applying categorization based on thresholds (these should be defined prior or calculated here)\n",
    "low_threshold, high_threshold = topic_engagement['logEngagementScore'].quantile([0.33, 0.66])\n",
    "topic_engagement['Category'] = topic_engagement['logEngagementScore'].apply(categorize_engagement)\n",
    "\n",
    "# Map each category to a color\n",
    "color_map = {'Low': 'red', 'Medium': 'yellow', 'High': 'green'}\n",
    "\n",
    "# Create an interactive scatter plot using Plotly\n",
    "fig = px.scatter(topic_engagement, x='logViewCount', y='logEngagementScore',\n",
    "                 color='Category', color_discrete_map=color_map,\n",
    "                 hover_name='searchTerm', title='Engagment Scores Clusted by Thresholds',\n",
    "                 labels={'logViewCount': 'Log View Count (Mean)', 'logEngagementScore': 'Log Engagement Score (Mean)'})\n",
    "\n",
    "# Add horizontal lines to indicate quantile thresholds\n",
    "fig.add_hline(y=low_threshold, line_dash=\"dash\", line_color=\"red\")\n",
    "fig.add_hline(y=high_threshold, line_dash=\"dash\", line_color=\"green\")\n",
    "\n",
    "# Show the plot\n",
    "fig.show()"
   ]
  },
  {
   "cell_type": "code",
   "execution_count": 138,
   "metadata": {},
   "outputs": [
    {
     "data": {
      "application/vnd.plotly.v1+json": {
       "config": {
        "plotlyServerURL": "https://plot.ly"
       },
       "data": [
        {
         "hovertemplate": "<b>%{hovertext}</b><br><br>Color=red<br>log(Mean View Count)=%{x}<br>Log(Mean Engagement Score)=%{y}<extra></extra>",
         "hovertext": [
          "Abortion",
          "Critical Race Theory",
          "Insulin Prices",
          "Medicaid",
          "Student Loans",
          "Term Limits",
          "Trans Athletes",
          "Ukraine Russia",
          "labor unions"
         ],
         "legendgroup": "red",
         "marker": {
          "color": "#636efa",
          "symbol": "circle"
         },
         "mode": "markers",
         "name": "red",
         "orientation": "v",
         "showlegend": true,
         "type": "scatter",
         "x": [
          12.685074834454598,
          11.764275654656918,
          12.195501875128805,
          10.448258837174466,
          12.933112689874953,
          11.940590015536328,
          12.25529915516504,
          12.178555070853555,
          10.598602888464962
         ],
         "xaxis": "x",
         "y": [
          10.698997136009483,
          10.120746171319656,
          10.59047643952957,
          11.160266569914548,
          10.791553654650212,
          10.286389435110916,
          11.223777059738202,
          10.048347138210369,
          10.875976584105883
         ],
         "yaxis": "y"
        },
        {
         "hovertemplate": "<b>%{hovertext}</b><br><br>Color=yellow<br>log(Mean View Count)=%{x}<br>Log(Mean Engagement Score)=%{y}<extra></extra>",
         "hovertext": [
          "Affirmative Action",
          "Border Camps",
          "China Taiwan",
          "Felon Voting Rights",
          "GMO",
          "Gay Marriage",
          "Gun Control",
          "Minimum Wage",
          "Obamacare",
          "Patriot Act",
          "Pharmaceutical Industry",
          "Police Violence",
          "Trans Rights",
          "Uyghur Persecution",
          "Vaccine Mandates",
          "Voter Fraud"
         ],
         "legendgroup": "yellow",
         "marker": {
          "color": "#EF553B",
          "symbol": "circle"
         },
         "mode": "markers",
         "name": "yellow",
         "orientation": "v",
         "showlegend": true,
         "type": "scatter",
         "x": [
          11.400298112619133,
          11.181418248067793,
          11.49349416533357,
          11.362641964622751,
          9.296833676936563,
          10.38796961164005,
          10.88918022475953,
          11.044315305072926,
          10.52620220973606,
          10.753149423170598,
          10.675762485167605,
          11.644733010335338,
          11.884957059138252,
          10.962383491118969,
          10.592444589140309,
          10.175530705130585
         ],
         "xaxis": "x",
         "y": [
          8.897236741320796,
          9.38923603491601,
          9.385825664734538,
          9.08904578390915,
          8.730955138375952,
          8.275314028002825,
          8.933109947840842,
          9.865548038818233,
          9.016238488310314,
          8.38661403051163,
          9.119444435080368,
          9.184783585295916,
          9.09250449636478,
          9.940470381895425,
          9.204337192449563,
          9.945380887626127
         ],
         "yaxis": "y"
        },
        {
         "hovertemplate": "<b>%{hovertext}</b><br><br>Color=green<br>log(Mean View Count)=%{x}<br>Log(Mean Engagement Score)=%{y}<extra></extra>",
         "hovertext": [
          "Climate Change",
          "Euthanasia",
          "Iran Israel",
          "Israel Palestine",
          "Terrorism"
         ],
         "legendgroup": "green",
         "marker": {
          "color": "#00cc96",
          "symbol": "circle"
         },
         "mode": "markers",
         "name": "green",
         "orientation": "v",
         "showlegend": true,
         "type": "scatter",
         "x": [
          13.18551298423496,
          13.399652682498276,
          14.081035103790892,
          12.283133061828867,
          12.779716145188472
         ],
         "xaxis": "x",
         "y": [
          10.066736397261014,
          9.497708522596529,
          10.274068758440267,
          8.850307534708813,
          9.574971209161298
         ],
         "yaxis": "y"
        }
       ],
       "layout": {
        "legend": {
         "title": {
          "text": "Color"
         },
         "tracegroupgap": 0
        },
        "showlegend": false,
        "template": {
         "data": {
          "bar": [
           {
            "error_x": {
             "color": "#2a3f5f"
            },
            "error_y": {
             "color": "#2a3f5f"
            },
            "marker": {
             "line": {
              "color": "#E5ECF6",
              "width": 0.5
             },
             "pattern": {
              "fillmode": "overlay",
              "size": 10,
              "solidity": 0.2
             }
            },
            "type": "bar"
           }
          ],
          "barpolar": [
           {
            "marker": {
             "line": {
              "color": "#E5ECF6",
              "width": 0.5
             },
             "pattern": {
              "fillmode": "overlay",
              "size": 10,
              "solidity": 0.2
             }
            },
            "type": "barpolar"
           }
          ],
          "carpet": [
           {
            "aaxis": {
             "endlinecolor": "#2a3f5f",
             "gridcolor": "white",
             "linecolor": "white",
             "minorgridcolor": "white",
             "startlinecolor": "#2a3f5f"
            },
            "baxis": {
             "endlinecolor": "#2a3f5f",
             "gridcolor": "white",
             "linecolor": "white",
             "minorgridcolor": "white",
             "startlinecolor": "#2a3f5f"
            },
            "type": "carpet"
           }
          ],
          "choropleth": [
           {
            "colorbar": {
             "outlinewidth": 0,
             "ticks": ""
            },
            "type": "choropleth"
           }
          ],
          "contour": [
           {
            "colorbar": {
             "outlinewidth": 0,
             "ticks": ""
            },
            "colorscale": [
             [
              0,
              "#0d0887"
             ],
             [
              0.1111111111111111,
              "#46039f"
             ],
             [
              0.2222222222222222,
              "#7201a8"
             ],
             [
              0.3333333333333333,
              "#9c179e"
             ],
             [
              0.4444444444444444,
              "#bd3786"
             ],
             [
              0.5555555555555556,
              "#d8576b"
             ],
             [
              0.6666666666666666,
              "#ed7953"
             ],
             [
              0.7777777777777778,
              "#fb9f3a"
             ],
             [
              0.8888888888888888,
              "#fdca26"
             ],
             [
              1,
              "#f0f921"
             ]
            ],
            "type": "contour"
           }
          ],
          "contourcarpet": [
           {
            "colorbar": {
             "outlinewidth": 0,
             "ticks": ""
            },
            "type": "contourcarpet"
           }
          ],
          "heatmap": [
           {
            "colorbar": {
             "outlinewidth": 0,
             "ticks": ""
            },
            "colorscale": [
             [
              0,
              "#0d0887"
             ],
             [
              0.1111111111111111,
              "#46039f"
             ],
             [
              0.2222222222222222,
              "#7201a8"
             ],
             [
              0.3333333333333333,
              "#9c179e"
             ],
             [
              0.4444444444444444,
              "#bd3786"
             ],
             [
              0.5555555555555556,
              "#d8576b"
             ],
             [
              0.6666666666666666,
              "#ed7953"
             ],
             [
              0.7777777777777778,
              "#fb9f3a"
             ],
             [
              0.8888888888888888,
              "#fdca26"
             ],
             [
              1,
              "#f0f921"
             ]
            ],
            "type": "heatmap"
           }
          ],
          "heatmapgl": [
           {
            "colorbar": {
             "outlinewidth": 0,
             "ticks": ""
            },
            "colorscale": [
             [
              0,
              "#0d0887"
             ],
             [
              0.1111111111111111,
              "#46039f"
             ],
             [
              0.2222222222222222,
              "#7201a8"
             ],
             [
              0.3333333333333333,
              "#9c179e"
             ],
             [
              0.4444444444444444,
              "#bd3786"
             ],
             [
              0.5555555555555556,
              "#d8576b"
             ],
             [
              0.6666666666666666,
              "#ed7953"
             ],
             [
              0.7777777777777778,
              "#fb9f3a"
             ],
             [
              0.8888888888888888,
              "#fdca26"
             ],
             [
              1,
              "#f0f921"
             ]
            ],
            "type": "heatmapgl"
           }
          ],
          "histogram": [
           {
            "marker": {
             "pattern": {
              "fillmode": "overlay",
              "size": 10,
              "solidity": 0.2
             }
            },
            "type": "histogram"
           }
          ],
          "histogram2d": [
           {
            "colorbar": {
             "outlinewidth": 0,
             "ticks": ""
            },
            "colorscale": [
             [
              0,
              "#0d0887"
             ],
             [
              0.1111111111111111,
              "#46039f"
             ],
             [
              0.2222222222222222,
              "#7201a8"
             ],
             [
              0.3333333333333333,
              "#9c179e"
             ],
             [
              0.4444444444444444,
              "#bd3786"
             ],
             [
              0.5555555555555556,
              "#d8576b"
             ],
             [
              0.6666666666666666,
              "#ed7953"
             ],
             [
              0.7777777777777778,
              "#fb9f3a"
             ],
             [
              0.8888888888888888,
              "#fdca26"
             ],
             [
              1,
              "#f0f921"
             ]
            ],
            "type": "histogram2d"
           }
          ],
          "histogram2dcontour": [
           {
            "colorbar": {
             "outlinewidth": 0,
             "ticks": ""
            },
            "colorscale": [
             [
              0,
              "#0d0887"
             ],
             [
              0.1111111111111111,
              "#46039f"
             ],
             [
              0.2222222222222222,
              "#7201a8"
             ],
             [
              0.3333333333333333,
              "#9c179e"
             ],
             [
              0.4444444444444444,
              "#bd3786"
             ],
             [
              0.5555555555555556,
              "#d8576b"
             ],
             [
              0.6666666666666666,
              "#ed7953"
             ],
             [
              0.7777777777777778,
              "#fb9f3a"
             ],
             [
              0.8888888888888888,
              "#fdca26"
             ],
             [
              1,
              "#f0f921"
             ]
            ],
            "type": "histogram2dcontour"
           }
          ],
          "mesh3d": [
           {
            "colorbar": {
             "outlinewidth": 0,
             "ticks": ""
            },
            "type": "mesh3d"
           }
          ],
          "parcoords": [
           {
            "line": {
             "colorbar": {
              "outlinewidth": 0,
              "ticks": ""
             }
            },
            "type": "parcoords"
           }
          ],
          "pie": [
           {
            "automargin": true,
            "type": "pie"
           }
          ],
          "scatter": [
           {
            "fillpattern": {
             "fillmode": "overlay",
             "size": 10,
             "solidity": 0.2
            },
            "type": "scatter"
           }
          ],
          "scatter3d": [
           {
            "line": {
             "colorbar": {
              "outlinewidth": 0,
              "ticks": ""
             }
            },
            "marker": {
             "colorbar": {
              "outlinewidth": 0,
              "ticks": ""
             }
            },
            "type": "scatter3d"
           }
          ],
          "scattercarpet": [
           {
            "marker": {
             "colorbar": {
              "outlinewidth": 0,
              "ticks": ""
             }
            },
            "type": "scattercarpet"
           }
          ],
          "scattergeo": [
           {
            "marker": {
             "colorbar": {
              "outlinewidth": 0,
              "ticks": ""
             }
            },
            "type": "scattergeo"
           }
          ],
          "scattergl": [
           {
            "marker": {
             "colorbar": {
              "outlinewidth": 0,
              "ticks": ""
             }
            },
            "type": "scattergl"
           }
          ],
          "scattermapbox": [
           {
            "marker": {
             "colorbar": {
              "outlinewidth": 0,
              "ticks": ""
             }
            },
            "type": "scattermapbox"
           }
          ],
          "scatterpolar": [
           {
            "marker": {
             "colorbar": {
              "outlinewidth": 0,
              "ticks": ""
             }
            },
            "type": "scatterpolar"
           }
          ],
          "scatterpolargl": [
           {
            "marker": {
             "colorbar": {
              "outlinewidth": 0,
              "ticks": ""
             }
            },
            "type": "scatterpolargl"
           }
          ],
          "scatterternary": [
           {
            "marker": {
             "colorbar": {
              "outlinewidth": 0,
              "ticks": ""
             }
            },
            "type": "scatterternary"
           }
          ],
          "surface": [
           {
            "colorbar": {
             "outlinewidth": 0,
             "ticks": ""
            },
            "colorscale": [
             [
              0,
              "#0d0887"
             ],
             [
              0.1111111111111111,
              "#46039f"
             ],
             [
              0.2222222222222222,
              "#7201a8"
             ],
             [
              0.3333333333333333,
              "#9c179e"
             ],
             [
              0.4444444444444444,
              "#bd3786"
             ],
             [
              0.5555555555555556,
              "#d8576b"
             ],
             [
              0.6666666666666666,
              "#ed7953"
             ],
             [
              0.7777777777777778,
              "#fb9f3a"
             ],
             [
              0.8888888888888888,
              "#fdca26"
             ],
             [
              1,
              "#f0f921"
             ]
            ],
            "type": "surface"
           }
          ],
          "table": [
           {
            "cells": {
             "fill": {
              "color": "#EBF0F8"
             },
             "line": {
              "color": "white"
             }
            },
            "header": {
             "fill": {
              "color": "#C8D4E3"
             },
             "line": {
              "color": "white"
             }
            },
            "type": "table"
           }
          ]
         },
         "layout": {
          "annotationdefaults": {
           "arrowcolor": "#2a3f5f",
           "arrowhead": 0,
           "arrowwidth": 1
          },
          "autotypenumbers": "strict",
          "coloraxis": {
           "colorbar": {
            "outlinewidth": 0,
            "ticks": ""
           }
          },
          "colorscale": {
           "diverging": [
            [
             0,
             "#8e0152"
            ],
            [
             0.1,
             "#c51b7d"
            ],
            [
             0.2,
             "#de77ae"
            ],
            [
             0.3,
             "#f1b6da"
            ],
            [
             0.4,
             "#fde0ef"
            ],
            [
             0.5,
             "#f7f7f7"
            ],
            [
             0.6,
             "#e6f5d0"
            ],
            [
             0.7,
             "#b8e186"
            ],
            [
             0.8,
             "#7fbc41"
            ],
            [
             0.9,
             "#4d9221"
            ],
            [
             1,
             "#276419"
            ]
           ],
           "sequential": [
            [
             0,
             "#0d0887"
            ],
            [
             0.1111111111111111,
             "#46039f"
            ],
            [
             0.2222222222222222,
             "#7201a8"
            ],
            [
             0.3333333333333333,
             "#9c179e"
            ],
            [
             0.4444444444444444,
             "#bd3786"
            ],
            [
             0.5555555555555556,
             "#d8576b"
            ],
            [
             0.6666666666666666,
             "#ed7953"
            ],
            [
             0.7777777777777778,
             "#fb9f3a"
            ],
            [
             0.8888888888888888,
             "#fdca26"
            ],
            [
             1,
             "#f0f921"
            ]
           ],
           "sequentialminus": [
            [
             0,
             "#0d0887"
            ],
            [
             0.1111111111111111,
             "#46039f"
            ],
            [
             0.2222222222222222,
             "#7201a8"
            ],
            [
             0.3333333333333333,
             "#9c179e"
            ],
            [
             0.4444444444444444,
             "#bd3786"
            ],
            [
             0.5555555555555556,
             "#d8576b"
            ],
            [
             0.6666666666666666,
             "#ed7953"
            ],
            [
             0.7777777777777778,
             "#fb9f3a"
            ],
            [
             0.8888888888888888,
             "#fdca26"
            ],
            [
             1,
             "#f0f921"
            ]
           ]
          },
          "colorway": [
           "#636efa",
           "#EF553B",
           "#00cc96",
           "#ab63fa",
           "#FFA15A",
           "#19d3f3",
           "#FF6692",
           "#B6E880",
           "#FF97FF",
           "#FECB52"
          ],
          "font": {
           "color": "#2a3f5f"
          },
          "geo": {
           "bgcolor": "white",
           "lakecolor": "white",
           "landcolor": "#E5ECF6",
           "showlakes": true,
           "showland": true,
           "subunitcolor": "white"
          },
          "hoverlabel": {
           "align": "left"
          },
          "hovermode": "closest",
          "mapbox": {
           "style": "light"
          },
          "paper_bgcolor": "white",
          "plot_bgcolor": "#E5ECF6",
          "polar": {
           "angularaxis": {
            "gridcolor": "white",
            "linecolor": "white",
            "ticks": ""
           },
           "bgcolor": "#E5ECF6",
           "radialaxis": {
            "gridcolor": "white",
            "linecolor": "white",
            "ticks": ""
           }
          },
          "scene": {
           "xaxis": {
            "backgroundcolor": "#E5ECF6",
            "gridcolor": "white",
            "gridwidth": 2,
            "linecolor": "white",
            "showbackground": true,
            "ticks": "",
            "zerolinecolor": "white"
           },
           "yaxis": {
            "backgroundcolor": "#E5ECF6",
            "gridcolor": "white",
            "gridwidth": 2,
            "linecolor": "white",
            "showbackground": true,
            "ticks": "",
            "zerolinecolor": "white"
           },
           "zaxis": {
            "backgroundcolor": "#E5ECF6",
            "gridcolor": "white",
            "gridwidth": 2,
            "linecolor": "white",
            "showbackground": true,
            "ticks": "",
            "zerolinecolor": "white"
           }
          },
          "shapedefaults": {
           "line": {
            "color": "#2a3f5f"
           }
          },
          "ternary": {
           "aaxis": {
            "gridcolor": "white",
            "linecolor": "white",
            "ticks": ""
           },
           "baxis": {
            "gridcolor": "white",
            "linecolor": "white",
            "ticks": ""
           },
           "bgcolor": "#E5ECF6",
           "caxis": {
            "gridcolor": "white",
            "linecolor": "white",
            "ticks": ""
           }
          },
          "title": {
           "x": 0.05
          },
          "xaxis": {
           "automargin": true,
           "gridcolor": "white",
           "linecolor": "white",
           "ticks": "",
           "title": {
            "standoff": 15
           },
           "zerolinecolor": "white",
           "zerolinewidth": 2
          },
          "yaxis": {
           "automargin": true,
           "gridcolor": "white",
           "linecolor": "white",
           "ticks": "",
           "title": {
            "standoff": 15
           },
           "zerolinecolor": "white",
           "zerolinewidth": 2
          }
         }
        },
        "title": {
         "text": "Engagment Scores Kmeans Clustered"
        },
        "xaxis": {
         "anchor": "y",
         "domain": [
          0,
          1
         ],
         "title": {
          "text": "log(Mean View Count)"
         }
        },
        "yaxis": {
         "anchor": "x",
         "domain": [
          0,
          1
         ],
         "title": {
          "text": "Log(Mean Engagement Score)"
         }
        }
       }
      }
     },
     "metadata": {},
     "output_type": "display_data"
    }
   ],
   "source": [
    "import pandas as pd\n",
    "import numpy as np\n",
    "import plotly.express as px\n",
    "from sklearn.cluster import KMeans\n",
    "\n",
    "# Assuming df is your main DataFrame and it includes both 'EngagementScore' and 'viewCount'\n",
    "# Calculate sum of engagement score and view count per 'searchTerm' and reset index to keep 'searchTerm' in the DataFrame\n",
    "topic_engagement = df.groupby('searchTerm').agg({\n",
    "    'EngagementScore': 'mean',\n",
    "    'viewCount': 'mean'\n",
    "}).reset_index()\n",
    "\n",
    "# Applying logarithmic transformation, ensuring there are no non-positive values\n",
    "topic_engagement['logEngagementScore'] = np.log1p(topic_engagement['EngagementScore'])\n",
    "topic_engagement['logViewCount'] = np.log1p(topic_engagement['viewCount'])\n",
    "\n",
    "# Apply K-means clustering\n",
    "kmeans = KMeans(n_clusters=3, random_state=42)  # You can choose different number of clusters based on your analysis\n",
    "topic_engagement['Cluster'] = kmeans.fit_predict(topic_engagement[['logViewCount', 'logEngagementScore']])\n",
    "\n",
    "# Map each cluster to a color\n",
    "color_map = {0: 'red', 1: 'yellow', 2: 'green'}\n",
    "topic_engagement['Color'] = topic_engagement['Cluster'].map(color_map)\n",
    "\n",
    "# Create an interactive scatter plot using Plotly\n",
    "fig = px.scatter(topic_engagement, x='logViewCount', y='logEngagementScore',\n",
    "                 color=topic_engagement['Color'],\n",
    "                 hover_name='searchTerm', title='Engagment Scores Kmeans Clustered',\n",
    "                 labels={'logViewCount': 'log(Mean View Count)', 'logEngagementScore': 'Log(Mean Engagement Score)'})\n",
    "\n",
    "# Hide the legend\n",
    "fig.update_layout(showlegend=False)\n",
    "\n",
    "# Show the plot\n",
    "fig.show()\n"
   ]
  }
 ],
 "metadata": {
  "kernelspec": {
   "display_name": "Python 3",
   "language": "python",
   "name": "python3"
  },
  "language_info": {
   "codemirror_mode": {
    "name": "ipython",
    "version": 3
   },
   "file_extension": ".py",
   "mimetype": "text/x-python",
   "name": "python",
   "nbconvert_exporter": "python",
   "pygments_lexer": "ipython3",
   "version": "3.12.2"
  }
 },
 "nbformat": 4,
 "nbformat_minor": 2
}
