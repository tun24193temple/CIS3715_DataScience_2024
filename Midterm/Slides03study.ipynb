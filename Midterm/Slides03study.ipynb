{
 "cells": [
  {
   "cell_type": "markdown",
   "metadata": {},
   "source": [
    "# Mathematics for Data Science"
   ]
  },
  {
   "cell_type": "markdown",
   "metadata": {},
   "source": [
    "## Background\n",
    "- Training data\n",
    "- Linear regression\n",
    "minx||y-Xw||2"
   ]
  },
  {
   "cell_type": "markdown",
   "metadata": {},
   "source": [
    "### Vector norms\n",
    "\n",
    "L1 - norm: ||X1|| = |x1| + |x2| + ... + |xd|\n",
    "\n",
    "L2 - norm (Euclidean norm): ||X2|| = Sqrt(x1^2 + x2^2 + ... + xd^2)\n",
    "\n",
    "L-infinity - norm(Max-norm): ||x||infinity = max |xi|"
   ]
  },
  {
   "cell_type": "markdown",
   "metadata": {},
   "source": [
    "### Matrix Multiplication\n",
    "columns = rows"
   ]
  },
  {
   "cell_type": "markdown",
   "metadata": {},
   "source": [
    "### Fornebius norm\n",
    "||A||f = sqrt(sum(m)*sum(n)*a^2)"
   ]
  },
  {
   "cell_type": "markdown",
   "metadata": {},
   "source": [
    "### Symmetric matrix\n",
    "A = A^t"
   ]
  },
  {
   "cell_type": "markdown",
   "metadata": {},
   "source": [
    "### Gradient Descent\n",
    "Machine learning model is an optimiaztion problem\n",
    "- minx f(x)\n",
    "\n",
    "1. f(x) is the objective function, or loss function\n",
    "2. x is the model parameter \n",
    "3. Goal: find a model parameter to mimize the objective function"
   ]
  },
  {
   "cell_type": "markdown",
   "metadata": {},
   "source": [
    "Gradient Descent method\n",
    "- xt+1 = x1 - n(delta(f(xt)))\n",
    "- xt is the model parameter in the t-th iteration\n",
    "- delta(f(xt)) is the gradient\n",
    "- n is the learning rate, or step size"
   ]
  },
  {
   "cell_type": "markdown",
   "metadata": {},
   "source": [
    "Gradient Descent\n",
    "- Example: Linear Regression\n",
    "- Gradient: -2X^T(y-Xw)\n",
    "- Gradient descent: w(t+1) = w(t) - n(2x^T(Xw(t) - y))"
   ]
  }
 ],
 "metadata": {
  "kernelspec": {
   "display_name": "Python 3",
   "language": "python",
   "name": "python3"
  },
  "language_info": {
   "name": "python",
   "version": "3.12.2"
  }
 },
 "nbformat": 4,
 "nbformat_minor": 2
}
