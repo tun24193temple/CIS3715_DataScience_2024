{
 "cells": [
  {
   "cell_type": "markdown",
   "metadata": {},
   "source": [
    "# Data Preprocessing\n",
    "Numerical values\n",
    "- line plot\n",
    "- Hist plot\n",
    "- Boxplot\n",
    "- Scatter plot\n",
    "Categorical Values\n",
    "- Bar plot\n",
    "- pie plot  \n",
    "Temporal Data  \n",
    "Spatial Data  \n",
    "Graph Data  "
   ]
  },
  {
   "cell_type": "markdown",
   "metadata": {},
   "source": [
    "## Missing Values\n",
    "\n",
    "Find the missing values  \n",
    "DataFrame.isnull()  \n",
    "- return a boolean same-sized object indicating if the values are NA  \n",
    "1. Remove the feature with a lot of missing values"
   ]
  },
  {
   "cell_type": "code",
   "execution_count": 9,
   "metadata": {},
   "outputs": [
    {
     "name": "stdout",
     "output_type": "stream",
     "text": [
      "longitude             0.000000\n",
      "latitude              0.000000\n",
      "housing_median_age    0.000000\n",
      "total_rooms           0.000000\n",
      "total_bedrooms        0.010029\n",
      "population            0.000000\n",
      "households            0.000000\n",
      "median_income         0.000000\n",
      "median_house_value    0.000000\n",
      "ocean_proximity       0.000000\n",
      "dtype: float64\n"
     ]
    }
   ],
   "source": [
    "import pandas as pd\n",
    "\n",
    "df = pd.read_csv('housing.csv')\n",
    "\n",
    "print(df.isnull().sum()/df.shape[0])"
   ]
  },
  {
   "cell_type": "markdown",
   "metadata": {},
   "source": [
    "Methods: Remove the feature with a lot of missing Values"
   ]
  },
  {
   "cell_type": "code",
   "execution_count": 7,
   "metadata": {},
   "outputs": [
    {
     "name": "stdout",
     "output_type": "stream",
     "text": [
      "Index(['longitude', 'latitude', 'housing_median_age', 'total_rooms',\n",
      "       'total_bedrooms', 'population', 'households', 'median_income',\n",
      "       'median_house_value', 'ocean_proximity'],\n",
      "      dtype='object')\n",
      "Index(['longitude', 'latitude', 'housing_median_age', 'total_rooms',\n",
      "       'population', 'households', 'median_income', 'median_house_value',\n",
      "       'ocean_proximity'],\n",
      "      dtype='object')\n"
     ]
    }
   ],
   "source": [
    "df = pd.read_csv('housing.csv')\n",
    "\n",
    "print(df.columns)\n",
    "\n",
    "df = df.drop('total_bedrooms', axis = 1)\n",
    "    \n",
    "print(df.columns)"
   ]
  },
  {
   "cell_type": "markdown",
   "metadata": {},
   "source": [
    "Methods: Fill in the missing values\n",
    "- Numerical values\n",
    "    - Fill in the missing values with mean or median\n"
   ]
  },
  {
   "cell_type": "code",
   "execution_count": 10,
   "metadata": {},
   "outputs": [
    {
     "name": "stdout",
     "output_type": "stream",
     "text": [
      "537.8705525375618\n",
      "435.0\n",
      "longitude             0\n",
      "latitude              0\n",
      "housing_median_age    0\n",
      "total_rooms           0\n",
      "total_bedrooms        0\n",
      "population            0\n",
      "households            0\n",
      "median_income         0\n",
      "median_house_value    0\n",
      "ocean_proximity       0\n",
      "dtype: int64\n"
     ]
    }
   ],
   "source": [
    "df = pd.read_csv('housing.csv')\n",
    "\n",
    "mean_val = df['total_bedrooms'].mean()\n",
    "median_val = df['total_bedrooms'].median()\n",
    "\n",
    "print(mean_val)\n",
    "print(median_val)\n",
    "\n",
    "df['total_bedrooms'] = df['total_bedrooms'].fillna(mean_val)\n",
    "print(df.isnull().sum)"
   ]
  },
  {
   "cell_type": "markdown",
   "metadata": {},
   "source": [
    "Do median if long tail distribution  \n",
    "Do average if non-long tail"
   ]
  },
  {
   "cell_type": "markdown",
   "metadata": {},
   "source": [
    "## Categorical Features\n",
    "impossible to compute mean or median\n",
    "- so add a new categorical value"
   ]
  },
  {
   "cell_type": "code",
   "execution_count": 11,
   "metadata": {},
   "outputs": [
    {
     "name": "stdout",
     "output_type": "stream",
     "text": [
      "['NEAR BAY' '<1H OCEAN' 'INLAND' 'NEAR OCEAN' 'ISLAND']\n",
      "['NEAR BAY' '<1H OCEAN' 'INLAND' 'NEAR OCEAN' 'ISLAND']\n"
     ]
    }
   ],
   "source": [
    "df = pd.read_csv('housing.csv')\n",
    "\n",
    "print(df['ocean_proximity'].unique())\n",
    "\n",
    "filling_value = 'PA'\n",
    "df['ocean_proximity'] = df['ocean_proximity'].fillna(filling_value)\n",
    "\n",
    "print(df['ocean_proximity'].unique())"
   ]
  },
  {
   "cell_type": "markdown",
   "metadata": {},
   "source": [
    "Label Encoding  \n",
    "- Each categorical feature is converted into an integer value  \n",
    "\n",
    "| Proximity | Label |  \n",
    "|----------|----------|  \n",
    "|Near Bay   | 0 |     \n",
    "| <1H OCEAN | 1 |     \n",
    "| INLAND    | 2 |\n",
    "| NEAR OCEAN | 3 |     \n",
    "| ISLAND | 4 |     \n",
    "\n"
   ]
  },
  {
   "cell_type": "code",
   "execution_count": 13,
   "metadata": {},
   "outputs": [
    {
     "name": "stdout",
     "output_type": "stream",
     "text": [
      "ocean_proximity\n",
      "<1H OCEAN     9136\n",
      "INLAND        6551\n",
      "NEAR OCEAN    2658\n",
      "NEAR BAY      2290\n",
      "ISLAND           5\n",
      "Name: count, dtype: int64\n",
      "ocean_proximity\n",
      "0    9136\n",
      "1    6551\n",
      "4    2658\n",
      "3    2290\n",
      "2       5\n",
      "Name: count, dtype: int64\n"
     ]
    }
   ],
   "source": [
    "from sklearn.preprocessing import LabelEncoder\n",
    "\n",
    "df = pd.read_csv('housing.csv')\n",
    "print(df[\"ocean_proximity\"].value_counts())\n",
    "\n",
    "labelencoder = LabelEncoder()\n",
    "df['ocean_proximity'] = labelencoder.fit_transform(df['ocean_proximity'])\n",
    "\n",
    "print(df[\"ocean_proximity\"].value_counts())"
   ]
  },
  {
   "cell_type": "markdown",
   "metadata": {},
   "source": [
    "One-Hot Encoding\n",
    "- Each category is mapped with a vector containing either 0 or 1\n"
   ]
  },
  {
   "cell_type": "code",
   "execution_count": 17,
   "metadata": {},
   "outputs": [
    {
     "name": "stdout",
     "output_type": "stream",
     "text": [
      "NEAR BAY\n",
      "[0. 0. 0. 1. 0.]\n"
     ]
    }
   ],
   "source": [
    "from sklearn.preprocessing import OneHotEncoder\n",
    "df = pd.read_csv('housing.csv')\n",
    "print(df[\"ocean_proximity\"][0])\n",
    "\n",
    "onehotencoder = OneHotEncoder()\n",
    "result = onehotencoder.fit_transform(df[['ocean_proximity']]).toarray()\n",
    "print(result[0,:])"
   ]
  },
  {
   "cell_type": "markdown",
   "metadata": {},
   "source": [
    "Ordinal Encoding\n",
    "- the categorical feature is ordinal\n",
    "- retaining the order is important"
   ]
  },
  {
   "cell_type": "code",
   "execution_count": 18,
   "metadata": {},
   "outputs": [
    {
     "name": "stdout",
     "output_type": "stream",
     "text": [
      "      rating\n",
      "0       Poor\n",
      "1       Good\n",
      "2  Very Good\n",
      "3  Excellent\n",
      "   rating\n",
      "0       1\n",
      "1       2\n",
      "2       3\n",
      "3       4\n"
     ]
    }
   ],
   "source": [
    "data = {'rating': ['Poor','Good','Very Good', 'Excellent']}\n",
    "df = pd.DataFrame(data)\n",
    "print(df)\n",
    "\n",
    "coding_map = {'Poor': 1, 'Good':2, 'Very Good': 3, 'Excellent':4}\n",
    "df['rating'] = df.rating.map(coding_map)\n",
    "print(df)\n"
   ]
  },
  {
   "cell_type": "markdown",
   "metadata": {},
   "source": [
    "## Feature Scaling\n",
    "different features have different scales  \n",
    "||x-y||2, the feature with large scale dominates the distance\n",
    "Examples:\n",
    "- x = (1,1000) y = (2,2000)\n",
    "- x = (1,4) y = (3,5)\n",
    "\n",
    "### Feature Scaling Methods\n",
    "Min-Max Normilization\n",
    "- sensitive to outliers\n",
    "- X' = (X - Xmin) / (Xmax - Xmin)"
   ]
  },
  {
   "cell_type": "code",
   "execution_count": 19,
   "metadata": {},
   "outputs": [
    {
     "name": "stdout",
     "output_type": "stream",
     "text": [
      "Original data\n",
      "[[3.2200e+02 1.2600e+02 8.3252e+00 4.5260e+05]\n",
      " [2.4010e+03 1.1380e+03 8.3014e+00 3.5850e+05]\n",
      " [4.9600e+02 1.7700e+02 7.2574e+00 3.5210e+05]\n",
      " [5.5800e+02 2.1900e+02 5.6431e+00 3.4130e+05]\n",
      " [5.6500e+02 2.5900e+02 3.8462e+00 3.4220e+05]]\n",
      "min and max\n",
      "[3.2200e+02 1.2600e+02 3.8462e+00 3.4130e+05]\n",
      "[2.4010e+03 1.1380e+03 8.3252e+00 4.5260e+05]\n",
      "Scaling data\n",
      "[[0.     0.     1.     1.    ]\n",
      " [1.     1.     0.9947 0.1545]\n",
      " [0.0837 0.0504 0.7616 0.097 ]\n",
      " [0.1135 0.0919 0.4012 0.    ]\n",
      " [0.1169 0.1314 0.     0.0081]]\n"
     ]
    }
   ],
   "source": [
    "import numpy as np\n",
    "from sklearn.preprocessing import OneHotEncoder\n",
    "np.set_printoptions(precision=4)\n",
    "\n",
    "df = pd.read_csv('housing.csv')\n",
    "X = df.values[0:5, 5:9].astype(dtype=np.float32)\n",
    "print('Original data')\n",
    "print(X)\n",
    "\n",
    "x_min = X.min(axis=0)\n",
    "x_max = X.max(axis=0)\n",
    "print('min and max')\n",
    "print(x_min)\n",
    "print(x_max)\n",
    "\n",
    "X = (X - x_min)/(x_max - x_min)\n",
    "print('Scaling data')\n",
    "print(X)"
   ]
  },
  {
   "cell_type": "markdown",
   "metadata": {},
   "source": [
    "Z-Score Normalization\n",
    "- Good for normal distribution  \n",
    "&nbsp;&nbsp;&nbsp;&nbsp; &nbsp;&nbsp;&nbsp;&nbsp;&nbsp;&nbsp;&nbsp; _  \n",
    "x' = (x - x)/ sigma  \n",
    "_  \n",
    "x = (1/n)Sum(from: i, to: n)(Xi)  \n",
    "&nbsp;&nbsp;&nbsp;&nbsp; &nbsp;&nbsp;&nbsp;&nbsp;&nbsp;&nbsp;&nbsp; &nbsp;&nbsp;&nbsp;&nbsp; &nbsp;&nbsp;&nbsp;&nbsp;&nbsp;&nbsp;&nbsp;&nbsp;&nbsp;&nbsp;&nbsp; &nbsp;&nbsp;&nbsp;&nbsp;&nbsp;&nbsp;&nbsp;&nbsp;&nbsp;&nbsp;&nbsp; &nbsp;&nbsp;&nbsp;&nbsp;&nbsp;&nbsp;&nbsp;&nbsp;&nbsp;&nbsp;&nbsp; &nbsp;&nbsp;&nbsp;&nbsp;&nbsp;&nbsp;&nbsp;&nbsp;&nbsp;_   \n",
    "Sigma^2 = (1/n)Sum(from: i, to: n)(Xi - X)^2"
   ]
  },
  {
   "cell_type": "code",
   "execution_count": null,
   "metadata": {},
   "outputs": [],
   "source": []
  }
 ],
 "metadata": {
  "kernelspec": {
   "display_name": "Python 3",
   "language": "python",
   "name": "python3"
  },
  "language_info": {
   "codemirror_mode": {
    "name": "ipython",
    "version": 3
   },
   "file_extension": ".py",
   "mimetype": "text/x-python",
   "name": "python",
   "nbconvert_exporter": "python",
   "pygments_lexer": "ipython3",
   "version": "3.12.2"
  }
 },
 "nbformat": 4,
 "nbformat_minor": 2
}
